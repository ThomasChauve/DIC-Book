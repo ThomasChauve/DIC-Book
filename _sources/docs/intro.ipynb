{
 "cells": [
  {
   "cell_type": "markdown",
   "id": "living-words",
   "metadata": {},
   "source": [
    "# Welcome to DIC book\n",
    "\n",
    "The aim of this toolbox is to provide a tools to performed data analysis on Digital Image Correlation output.\n",
    "\n",
    "Those analysis are build around [`xarray`](http://xarray.pydata.org/en/stable/) librairy and two accessor [`xarray_dic`](https://github.com/ThomasChauve/xarray_dic) and [`xarray_symTensor2d`](https://github.com/ThomasChauve/xarray_symTensor2d).\n",
    "\n",
    "All this documentation is build from jupyter-notebook and can be run using [MyBinder](https://mybinder.org/v2/gh/ThomasChauve/DIC-book/main?urlpath=lab/tree/./docs/Quick_start.ipynb) by clicking on the \"launch button\" on the top right of this page (the little rocket 🚀)."
   ]
  },
  {
   "cell_type": "markdown",
   "id": "formed-lyric",
   "metadata": {},
   "source": [
    "## Tutorials\n",
    "- [Quick start](Quick_Start.ipynb) : Short tutorial to plot colormap and pole figure from your dataset."
   ]
  },
  {
   "cell_type": "markdown",
   "id": "dried-possibility",
   "metadata": {},
   "source": [
    "## The xarray dependencies\n",
    "- `dic` accessor : A `xarray.Dataset` accesor for managing DIC output. \n",
    "- `sT` accessor : `sT` for \"**s**ymetric **T**ensor. A `xarray.DataArray` accesor for managing symetric tensor of dimention 3x3. "
   ]
  },
  {
   "cell_type": "markdown",
   "id": "august-sherman",
   "metadata": {},
   "source": [
    "## Install environement\n",
    "\n",
    "If you want to install your the python environnement locally on your computer, we recomand using [conda](https://docs.conda.io/projects/conda/en/latest/index.html). You can follow this [quick start](https://docs.conda.io/projects/conda/en/latest/user-guide/getting-started.html) to set-up conda.\n",
    "\n",
    "Once conda is set-up you can install your environement using the [`environment.yml`](https://github.com/ThomasChauve/DIC-book/blob/main/environment.yml) file.\n",
    "\n",
    "`conda env create -n MyenvDIC -f environment.yml`\n",
    "\n",
    "To activate this environment use :\n",
    "\n",
    "`conda activate MyenvDIC`"
   ]
  },
  {
   "cell_type": "markdown",
   "id": "conditional-tennessee",
   "metadata": {},
   "source": [
    "## Play with the notebooks on your computer\n",
    "\n",
    "You can clone this repository :\n",
    "\n",
    "`git clone https://github.com/ThomasChauve/DIC-book`"
   ]
  },
  {
   "cell_type": "markdown",
   "id": "vertical-struggle",
   "metadata": {},
   "source": [
    "## Contribute\n",
    "You are welcome to contribute to the project. Here are some way to contribute to it :\n",
    "\n",
    "1. [Submit commit](https://github.com/ThomasChauve/DIC-book/pulls) to fix bug or add news functionalities.\n",
    "2. Repport [issues](https://github.com/ThomasChauve/DIC-book/issues) that you found using those tools.\n",
    "3. Talk about the tools around you if you find it interesting and/or put a star on it.\n",
    "\n",
    "Feel free to [contact me](mailto:thomas.chauve@univ-grenoble-alpes.fr) if you like to discuss about it."
   ]
  }
 ],
 "metadata": {
  "kernelspec": {
   "display_name": "basepy38",
   "language": "python",
   "name": "basepy38"
  },
  "language_info": {
   "codemirror_mode": {
    "name": "ipython",
    "version": 3
   },
   "file_extension": ".py",
   "mimetype": "text/x-python",
   "name": "python",
   "nbconvert_exporter": "python",
   "pygments_lexer": "ipython3",
   "version": "3.8.8"
  }
 },
 "nbformat": 4,
 "nbformat_minor": 5
}
